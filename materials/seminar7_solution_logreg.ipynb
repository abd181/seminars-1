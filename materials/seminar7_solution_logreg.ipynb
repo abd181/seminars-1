{
 "cells": [
  {
   "cell_type": "code",
   "execution_count": 1,
   "metadata": {
    "collapsed": true
   },
   "outputs": [],
   "source": [
    "import numpy as np\n",
    "from matplotlib import pyplot as plt\n",
    "%matplotlib inline"
   ]
  },
  {
   "cell_type": "markdown",
   "metadata": {},
   "source": [
    "Зададим простейшие одномерные данные:"
   ]
  },
  {
   "cell_type": "code",
   "execution_count": 2,
   "metadata": {
    "collapsed": true
   },
   "outputs": [],
   "source": [
    "data = np.array([1, -2, -3, -1, 2, 3])[:, np.newaxis]\n",
    "target = np.array([0, 0, 0, 1, 1, 1])"
   ]
  },
  {
   "cell_type": "code",
   "execution_count": 6,
   "metadata": {},
   "outputs": [
    {
     "data": {
      "text/plain": [
       "(6, 1)"
      ]
     },
     "execution_count": 6,
     "metadata": {},
     "output_type": "execute_result"
    }
   ],
   "source": [
    "data.shape"
   ]
  },
  {
   "cell_type": "code",
   "execution_count": 3,
   "metadata": {},
   "outputs": [
    {
     "data": {
      "text/plain": [
       "<matplotlib.collections.PathCollection at 0x11428bba8>"
      ]
     },
     "execution_count": 3,
     "metadata": {},
     "output_type": "execute_result"
    },
    {
     "data": {
      "image/png": "[encoded data removed]",
      "text/plain": [
       "<matplotlib.figure.Figure at 0x10bdab4a8>"
      ]
     },
     "metadata": {},
     "output_type": "display_data"
    }
   ],
   "source": [
    "plt.scatter(data.ravel(), target)"
   ]
  },
  {
   "cell_type": "markdown",
   "metadata": {},
   "source": [
    "Реализуем вычисление функционала качества:"
   ]
  },
  {
   "cell_type": "code",
   "execution_count": 36,
   "metadata": {
    "collapsed": true
   },
   "outputs": [],
   "source": [
    "def sigmoid(x):\n",
    "    return 1 / (1+np.exp(-x))\n",
    "    \n",
    "def qual(w, X, y, C=0):\n",
    "    ### your code here\n",
    "    ### 0, 1 -> -1, +1\n",
    "    y = 2 * y - 1\n",
    "    q = np.log(1+np.exp(-X.dot(w)*y)).mean()\n",
    "    if C > 0:\n",
    "        q += 2 / C * np.sum(w**2)\n",
    "    return q"
   ]
  },
  {
   "cell_type": "code",
   "execution_count": 5,
   "metadata": {},
   "outputs": [
    {
     "name": "stdout",
     "output_type": "stream",
     "text": [
      "0.1 0.632296924641\n",
      "1 0.496259016712\n",
      "10 3.33334846699\n"
     ]
    },
    {
     "data": {
      "text/plain": [
       "<matplotlib.legend.Legend at 0x1142cb128>"
      ]
     },
     "execution_count": 5,
     "metadata": {},
     "output_type": "execute_result"
    },
    {
     "data": {
      "image/png": "[encoded data removed]",
      "text/plain": [
       "<matplotlib.figure.Figure at 0x114267780>"
      ]
     },
     "metadata": {},
     "output_type": "display_data"
    }
   ],
   "source": [
    "plt.scatter(data.ravel(), target)\n",
    "ls = np.linspace(-3, 3, 100)\n",
    "for w in [0.1, 1, 10]:\n",
    "    print(w, qual([w], data, target))\n",
    "    plt.plot(ls, sigmoid(w*ls), label=str(w))\n",
    "plt.legend()"
   ]
  },
  {
   "cell_type": "markdown",
   "metadata": {},
   "source": [
    "Не выгодно подгоняться под \"правильные\" ответы, лучше всего что-то среднее."
   ]
  },
  {
   "cell_type": "code",
   "execution_count": 7,
   "metadata": {
    "collapsed": true
   },
   "outputs": [],
   "source": [
    "from scipy.optimize import minimize"
   ]
  },
  {
   "cell_type": "code",
   "execution_count": 37,
   "metadata": {},
   "outputs": [],
   "source": [
    "def grad(w, X, y, C=0):\n",
    "    ### your code here\n",
    "    ### 0, 1 -> -1, +1\n",
    "    y = 2 * y -1\n",
    "    den = 1 + np.exp(y*X.dot(w))\n",
    "    mat = - (X * y[:, np.newaxis]) / den[:, np.newaxis]\n",
    "    grad = mat.mean(axis=0)\n",
    "    if C > 0:\n",
    "        grad += 1 / C * w\n",
    "    return grad\n",
    "\n",
    "class Callback:\n",
    "    def __init__(self):\n",
    "        self.ws = []\n",
    "        \n",
    "    def call(self, w):\n",
    "        self.ws.append(np.copy(w))\n",
    "\n",
    "class MyLR:\n",
    "    def __init__(self, C=0):\n",
    "        self.C = C\n",
    "    \n",
    "    def fit(self, X, y):\n",
    "        d = X.shape[1] \n",
    "        w = np.zeros(d) #  инициализация весов\n",
    "        self.callback = Callback()\n",
    "        # обучение весов\n",
    "        self.res = minimize(qual, w,  \n",
    "                    method=\"L-BFGS-B\",\n",
    "                    jac=grad,\n",
    "                    args=(X, y, self.C),\n",
    "                    callback=self.callback.call)\n",
    "        self.w = self.res.x\n",
    "    \n",
    "    def predict(self, X):\n",
    "        ### your code here\n",
    "        # returns 0 and 1\n",
    "        return (X.dot(self.w) > 0).astype(int)\n",
    "    \n",
    "    def predict_proba(self, X):\n",
    "        ### your code here\n",
    "        # returns probabilities in [0, 1]\n",
    "        return sigmoid(X.dot(self.w))"
   ]
  },
  {
   "cell_type": "markdown",
   "metadata": {},
   "source": [
    "Сравним результат нашей реализации и sklearn:"
   ]
  },
  {
   "cell_type": "code",
   "execution_count": 38,
   "metadata": {
    "collapsed": true
   },
   "outputs": [],
   "source": [
    "from sklearn.linear_model import LogisticRegression as LR"
   ]
  },
  {
   "cell_type": "code",
   "execution_count": 39,
   "metadata": {},
   "outputs": [
    {
     "data": {
      "text/plain": [
       "array([[ 0.73248745]])"
      ]
     },
     "execution_count": 39,
     "metadata": {},
     "output_type": "execute_result"
    }
   ],
   "source": [
    "lr = LR(C=10**8) # \"no reg\"\n",
    "lr.fit(data, target)\n",
    "lr.coef_"
   ]
  },
  {
   "cell_type": "code",
   "execution_count": 40,
   "metadata": {},
   "outputs": [
    {
     "data": {
      "text/plain": [
       "array([ 0.73248729])"
      ]
     },
     "execution_count": 40,
     "metadata": {},
     "output_type": "execute_result"
    }
   ],
   "source": [
    "mylr = MyLR()\n",
    "mylr.fit(data, target)\n",
    "mylr.w"
   ]
  },
  {
   "cell_type": "markdown",
   "metadata": {},
   "source": [
    "Процесс обучения весов:"
   ]
  },
  {
   "cell_type": "code",
   "execution_count": 41,
   "metadata": {},
   "outputs": [
    {
     "data": {
      "text/plain": [
       "[array([ 1.]),\n",
       " array([ 0.850928]),\n",
       " array([ 0.70115804]),\n",
       " array([ 0.7357471]),\n",
       " array([ 0.73257315]),\n",
       " array([ 0.73248729])]"
      ]
     },
     "execution_count": 41,
     "metadata": {},
     "output_type": "execute_result"
    }
   ],
   "source": [
    "mylr.callback.ws"
   ]
  },
  {
   "cell_type": "code",
   "execution_count": 42,
   "metadata": {},
   "outputs": [
    {
     "data": {
      "text/plain": [
       "[<matplotlib.lines.Line2D at 0x1a1689e748>]"
      ]
     },
     "execution_count": 42,
     "metadata": {},
     "output_type": "execute_result"
    },
    {
     "data": {
      "image/png": "[encoded data removed]",
      "text/plain": [
       "<matplotlib.figure.Figure at 0x1a1680f4a8>"
      ]
     },
     "metadata": {},
     "output_type": "display_data"
    }
   ],
   "source": [
    "plt.plot(mylr.callback.ws)"
   ]
  },
  {
   "cell_type": "markdown",
   "metadata": {},
   "source": [
    "Теперь посмотрим, что будет, если данные линейно разделимы:"
   ]
  },
  {
   "cell_type": "code",
   "execution_count": 43,
   "metadata": {
    "collapsed": true
   },
   "outputs": [],
   "source": [
    "data2 = np.array([-1, -2, -3, 1, 2, 3])[:, np.newaxis]\n",
    "target = np.array([0, 0, 0, 1, 1, 1])"
   ]
  },
  {
   "cell_type": "code",
   "execution_count": 44,
   "metadata": {},
   "outputs": [
    {
     "data": {
      "text/plain": [
       "<matplotlib.collections.PathCollection at 0x1a1695c550>"
      ]
     },
     "execution_count": 44,
     "metadata": {},
     "output_type": "execute_result"
    },
    {
     "data": {
      "image/png": "[encoded data removed]",
      "text/plain": [
       "<matplotlib.figure.Figure at 0x1a168c0f60>"
      ]
     },
     "metadata": {},
     "output_type": "display_data"
    }
   ],
   "source": [
    "plt.scatter(data2.ravel(), target)"
   ]
  },
  {
   "cell_type": "code",
   "execution_count": 45,
   "metadata": {},
   "outputs": [
    {
     "data": {
      "text/plain": [
       "array([ 10.42599806])"
      ]
     },
     "execution_count": 45,
     "metadata": {},
     "output_type": "execute_result"
    }
   ],
   "source": [
    "mylr = MyLR()\n",
    "mylr.fit(data2, target)\n",
    "mylr.w"
   ]
  },
  {
   "cell_type": "code",
   "execution_count": 46,
   "metadata": {},
   "outputs": [
    {
     "data": {
      "text/plain": [
       "[<matplotlib.lines.Line2D at 0x1a16a18400>]"
      ]
     },
     "execution_count": 46,
     "metadata": {},
     "output_type": "execute_result"
    },
    {
     "data": {
      "image/png": "[encoded data removed]",
      "text/plain": [
       "<matplotlib.figure.Figure at 0x1a16970160>"
      ]
     },
     "metadata": {},
     "output_type": "display_data"
    }
   ],
   "source": [
    "plt.plot(mylr.callback.ws)"
   ]
  },
  {
   "cell_type": "code",
   "execution_count": 47,
   "metadata": {},
   "outputs": [
    {
     "data": {
      "text/plain": [
       "[<matplotlib.lines.Line2D at 0x1a169fb320>]"
      ]
     },
     "execution_count": 47,
     "metadata": {},
     "output_type": "execute_result"
    },
    {
     "data": {
      "image/png": "[encoded data removed]",
      "text/plain": [
       "<matplotlib.figure.Figure at 0x1a169fb588>"
      ]
     },
     "metadata": {},
     "output_type": "display_data"
    }
   ],
   "source": [
    "plt.scatter(data2.ravel(), target)\n",
    "plt.plot(ls, sigmoid(ls*mylr.w))"
   ]
  },
  {
   "cell_type": "markdown",
   "metadata": {},
   "source": [
    "Попробуем добавить регуляризацию:"
   ]
  },
  {
   "cell_type": "code",
   "execution_count": 48,
   "metadata": {},
   "outputs": [
    {
     "data": {
      "text/plain": [
       "<matplotlib.legend.Legend at 0x1a16add390>"
      ]
     },
     "execution_count": 48,
     "metadata": {},
     "output_type": "execute_result"
    },
    {
     "data": {
      "image/png": "[encoded data removed]",
      "text/plain": [
       "<matplotlib.figure.Figure at 0x1a16addf98>"
      ]
     },
     "metadata": {},
     "output_type": "display_data"
    }
   ],
   "source": [
    "plt.scatter(data2.ravel(), target)\n",
    "for C in [0, 10, 100, 10**9]:\n",
    "    mylr = MyLR(C=C)\n",
    "    mylr.fit(data2, target)\n",
    "    points = np.linspace(-3.5, 3.5, 1000)\n",
    "    preds = mylr.predict_proba(points[:, np.newaxis])\n",
    "    plt.plot(points, preds, label=str(C))\n",
    "plt.legend()"
   ]
  },
  {
   "cell_type": "markdown",
   "metadata": {},
   "source": [
    "Нерегуляризованное решение стремится к бесконечным весам (что соответствует аналитическому анализу), регуляризация же решает проблему несуществования решения."
   ]
  },
  {
   "cell_type": "markdown",
   "metadata": {},
   "source": [
    "То же на data:"
   ]
  },
  {
   "cell_type": "code",
   "execution_count": 49,
   "metadata": {},
   "outputs": [
    {
     "data": {
      "text/plain": [
       "<matplotlib.legend.Legend at 0x1a16b751d0>"
      ]
     },
     "execution_count": 49,
     "metadata": {},
     "output_type": "execute_result"
    },
    {
     "data": {
      "image/png": "[encoded data removed]",
      "text/plain": [
       "<matplotlib.figure.Figure at 0x1a16b081d0>"
      ]
     },
     "metadata": {},
     "output_type": "display_data"
    }
   ],
   "source": [
    "plt.scatter(data.ravel(), target)\n",
    "for C in [0, 10, 100, 10**9]:\n",
    "    mylr = MyLR(C=C)\n",
    "    mylr.fit(data, target)\n",
    "    points = np.linspace(-3.5, 3.5, 1000)\n",
    "    preds = mylr.predict_proba(points[:, np.newaxis])\n",
    "    plt.plot(points, preds, label=str(C))\n",
    "plt.legend()"
   ]
  }
 ],
 "metadata": {
  "kernelspec": {
   "display_name": "Python 3",
   "language": "python",
   "name": "python3"
  },
  "language_info": {
   "codemirror_mode": {
    "name": "ipython",
    "version": 3
   },
   "file_extension": ".py",
   "mimetype": "text/x-python",
   "name": "python",
   "nbconvert_exporter": "python",
   "pygments_lexer": "ipython3",
   "version": "3.6.3"
  }
 },
 "nbformat": 4,
 "nbformat_minor": 2
}
