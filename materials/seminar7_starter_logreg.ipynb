{
 "cells": [
  {
   "cell_type": "code",
   "execution_count": null,
   "metadata": {
    "collapsed": true
   },
   "outputs": [],
   "source": [
    "import numpy as np\n",
    "from matplotlib import pyplot as plt\n",
    "%matplotlib inline"
   ]
  },
  {
   "cell_type": "markdown",
   "metadata": {},
   "source": [
    "Зададим простейшие одномерные данные:"
   ]
  },
  {
   "cell_type": "code",
   "execution_count": null,
   "metadata": {},
   "outputs": [],
   "source": [
    "data = np.array([1, -2, -3, -1, 2, 3])[:, np.newaxis]\n",
    "target = np.array([0, 0, 0, 1, 1, 1])"
   ]
  },
  {
   "cell_type": "code",
   "execution_count": null,
   "metadata": {},
   "outputs": [],
   "source": [
    "plt.scatter(data.ravel(), target)"
   ]
  },
  {
   "cell_type": "markdown",
   "metadata": {},
   "source": [
    "Реализуем вычисление функционала качества:"
   ]
  },
  {
   "cell_type": "code",
   "execution_count": null,
   "metadata": {
    "collapsed": true
   },
   "outputs": [],
   "source": [
    "def sigmoid(x):\n",
    "    ### your code here\n",
    "    \n",
    "def qual(w, X, y, C=0):\n",
    "    ### your code here\n",
    "    ### 0, 1 -> -1, +1\n",
    "    "
   ]
  },
  {
   "cell_type": "code",
   "execution_count": null,
   "metadata": {},
   "outputs": [],
   "source": [
    "plt.scatter(data.ravel(), target)\n",
    "ls = np.linspace(-3, 3, 100)\n",
    "for w in [0.1, 1, 10]:\n",
    "    print(w, qual([w], data, target))\n",
    "    plt.plot(ls, sigmoid(w*ls), label=str(w))\n",
    "plt.legend()"
   ]
  },
  {
   "cell_type": "markdown",
   "metadata": {},
   "source": [
    "Не выгодно подгоняться под \"правильные\" ответы, лучше всего что-то среднее."
   ]
  },
  {
   "cell_type": "code",
   "execution_count": null,
   "metadata": {
    "collapsed": true
   },
   "outputs": [],
   "source": [
    "from scipy.optimize import minimize"
   ]
  },
  {
   "cell_type": "code",
   "execution_count": null,
   "metadata": {
    "collapsed": true
   },
   "outputs": [],
   "source": [
    "def grad(w, X, y, C=0):\n",
    "    ### your code here\n",
    "    ### 0, 1 -> -1, +1\n",
    "\n",
    "class Callback:\n",
    "    def __init__(self):\n",
    "        self.ws = []\n",
    "        \n",
    "    def call(self, w):\n",
    "        self.ws.append(np.copy(w))\n",
    "\n",
    "class MyLR:\n",
    "    def __init__(self, C=0, lr=1):\n",
    "        self.C = C\n",
    "        self.lr = lr\n",
    "    \n",
    "    def fit(self, X, y):\n",
    "        d = X.shape[1] \n",
    "        w = np.zeros(d) #  инициализация весов\n",
    "        self.callback = Callback()\n",
    "        # обучение весов\n",
    "        self.res = minimize(qual, w,  \n",
    "                    method=\"L-BFGS-B\",\n",
    "                    jac=grad,\n",
    "                    args=(X, y, self.C),\n",
    "                    callback=self.callback.call)\n",
    "        self.w = self.res.x\n",
    "    \n",
    "    def predict(self, X):\n",
    "        ### your code here\n",
    "    \n",
    "    def predict_proba(self, X):\n",
    "        ### your code here"
   ]
  },
  {
   "cell_type": "markdown",
   "metadata": {},
   "source": [
    "Сравним результат нашей реализации и sklearn:"
   ]
  },
  {
   "cell_type": "code",
   "execution_count": null,
   "metadata": {
    "collapsed": true
   },
   "outputs": [],
   "source": [
    "from sklearn.linear_model import LogisticRegression as LR"
   ]
  },
  {
   "cell_type": "code",
   "execution_count": null,
   "metadata": {},
   "outputs": [],
   "source": [
    "lr = LR(C=10**8) # \"no reg\"\n",
    "lr.fit(data, target)\n",
    "lr.coef_"
   ]
  },
  {
   "cell_type": "code",
   "execution_count": null,
   "metadata": {},
   "outputs": [],
   "source": [
    "mylr = MyLR()\n",
    "mylr.fit(data, target)\n",
    "mylr.w"
   ]
  },
  {
   "cell_type": "markdown",
   "metadata": {},
   "source": [
    "Процесс обучения весов:"
   ]
  },
  {
   "cell_type": "code",
   "execution_count": null,
   "metadata": {},
   "outputs": [],
   "source": [
    "mylr.callback.ws"
   ]
  },
  {
   "cell_type": "code",
   "execution_count": null,
   "metadata": {},
   "outputs": [],
   "source": [
    "plt.plot(mylr.callback.ws)"
   ]
  },
  {
   "cell_type": "markdown",
   "metadata": {},
   "source": [
    "Теперь посмотрим, что будет, если данные линейно разделимы:"
   ]
  },
  {
   "cell_type": "code",
   "execution_count": null,
   "metadata": {},
   "outputs": [],
   "source": [
    "data2 = np.array([-1, -2, -3, 1, 2, 3])[:, np.newaxis]\n",
    "target = np.array([0, 0, 0, 1, 1, 1])"
   ]
  },
  {
   "cell_type": "code",
   "execution_count": null,
   "metadata": {},
   "outputs": [],
   "source": [
    "plt.scatter(data2.ravel(), target)"
   ]
  },
  {
   "cell_type": "code",
   "execution_count": null,
   "metadata": {},
   "outputs": [],
   "source": [
    "mylr = MyLR()\n",
    "mylr.fit(data2, target)\n",
    "mylr.w"
   ]
  },
  {
   "cell_type": "code",
   "execution_count": null,
   "metadata": {},
   "outputs": [],
   "source": [
    "plt.plot(mylr.callback.ws)"
   ]
  },
  {
   "cell_type": "code",
   "execution_count": null,
   "metadata": {},
   "outputs": [],
   "source": [
    "plt.scatter(data2.ravel(), target)\n",
    "plt.plot(ls, sigmoid(ls*mylr.w))"
   ]
  },
  {
   "cell_type": "markdown",
   "metadata": {},
   "source": [
    "Попробуем добавить регуляризацию:"
   ]
  },
  {
   "cell_type": "code",
   "execution_count": null,
   "metadata": {},
   "outputs": [],
   "source": [
    "plt.scatter(data2.ravel(), target)\n",
    "for C in [0, 10, 100, 10**9]:\n",
    "    mylr = MyLR(C=C)\n",
    "    mylr.fit(data2, target)\n",
    "    points = np.linspace(-3.5, 3.5, 1000)\n",
    "    preds = mylr.predict_proba(points[:, np.newaxis])\n",
    "    plt.plot(points, preds, label=str(C))\n",
    "plt.legend()"
   ]
  },
  {
   "cell_type": "markdown",
   "metadata": {},
   "source": [
    "То же на data:"
   ]
  },
  {
   "cell_type": "code",
   "execution_count": null,
   "metadata": {},
   "outputs": [],
   "source": [
    "plt.scatter(data.ravel(), target)\n",
    "for C in [0, 10, 100, 10**9]:\n",
    "    mylr = MyLR(C=C)\n",
    "    mylr.fit(data, target)\n",
    "    points = np.linspace(-3.5, 3.5, 1000)\n",
    "    preds = mylr.predict_proba(points[:, np.newaxis])\n",
    "    plt.plot(points, preds, label=str(C))\n",
    "plt.legend()"
   ]
  },
  {
   "cell_type": "code",
   "execution_count": null,
   "metadata": {
    "collapsed": true
   },
   "outputs": [],
   "source": []
  }
 ],
 "metadata": {
  "kernelspec": {
   "display_name": "Python 3",
   "language": "python",
   "name": "python3"
  },
  "language_info": {
   "codemirror_mode": {
    "name": "ipython",
    "version": 3
   },
   "file_extension": ".py",
   "mimetype": "text/x-python",
   "name": "python",
   "nbconvert_exporter": "python",
   "pygments_lexer": "ipython3",
   "version": "3.6.3"
  }
 },
 "nbformat": 4,
 "nbformat_minor": 2
}
